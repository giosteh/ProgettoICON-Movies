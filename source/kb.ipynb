{
 "cells": [
  {
   "cell_type": "code",
   "execution_count": 2,
   "metadata": {},
   "outputs": [],
   "source": [
    "from kb_utils import *"
   ]
  },
  {
   "cell_type": "code",
   "execution_count": null,
   "metadata": {},
   "outputs": [],
   "source": [
    "create_kb()"
   ]
  },
  {
   "cell_type": "markdown",
   "metadata": {},
   "source": [
    "### Feature engineering tramite KB"
   ]
  },
  {
   "cell_type": "code",
   "execution_count": 5,
   "metadata": {},
   "outputs": [],
   "source": [
    "# derivo i nuovi dataframe dalla kb\n",
    "prolog = Prolog()\n",
    "prolog.consult('facts.pl')\n",
    "prolog.consult('clauses.pl')\n",
    "\n",
    "movies = pd.read_csv('../dataset/movies_v2.csv')\n",
    "\n",
    "new_movies = derive_movies_data(movies, prolog)\n",
    "new_movies.to_csv('../dataset/movies_new.csv', index=False)\n",
    "\n",
    "directors = movies['director'].unique()\n",
    "new_directors = derive_directors_data(directors, prolog)\n",
    "new_directors.to_csv('../dataset/directors_new.csv', index=False)\n",
    "\n",
    "actors = movies['star'].unique()\n",
    "new_actors = derive_actors_data(actors, prolog)\n",
    "new_actors.to_csv('../dataset/actors_new.csv', index=False)"
   ]
  },
  {
   "cell_type": "code",
   "execution_count": 3,
   "metadata": {},
   "outputs": [],
   "source": [
    "df = pd.read_csv('../dataset/movies_v2.csv')\n",
    "\n",
    "# nuove features per movies\n",
    "df['age'] = 2024 - df['year']\n",
    "df['profit_index'] = (df['gross'] - df['budget']) / df['budget']\n",
    "df['success_index'] = df['profit_index'] * np.log(df['budget'])\n",
    "df['cult_index'] = df['score'] * np.log(df['votes'])\n",
    "\n",
    "def genre_regroup(genre):\n",
    "    if genre in ['Mystery', 'Thriller', 'Sci-Fy', 'Family', 'Romance', 'Western']:\n",
    "        return 'Others'\n",
    "    return genre\n",
    "\n",
    "df['genre'] = df['genre'].apply(genre_regroup)\n",
    "\n",
    "def rating_regroup(rating):\n",
    "    if rating in ['NC-17', 'TV-MA', 'Approved', 'X']:\n",
    "        return 'Others'\n",
    "    return rating\n",
    "\n",
    "df['rating'] = df['rating'].apply(rating_regroup)\n",
    "\n",
    "# nuove features per registi e attori\n",
    "directors = df['director'].unique()\n",
    "actors = df['star'].unique()\n",
    "\n",
    "# creo i nuovi dataframe\n",
    "directors_dict = {'director_name': directors}\n",
    "df_directors = pd.DataFrame(directors_dict)\n",
    "\n",
    "actors_dict = {'actor_name': actors}\n",
    "df_actors = pd.DataFrame(actors_dict)\n",
    "\n",
    "\n",
    "# derivo le nuove features\n",
    "df_directors['director_num_movies'] = [len(df[df['director'] == name]) for name in df_directors['director_name']]\n",
    "\n",
    "df_directors['director_profit_mean'] = [df[df['director'] == name]['profit_index'].mean() for name in df_directors['director_name']]\n",
    "\n",
    "for name in df_directors.loc[df_directors['director_profit_mean'].isnull(), 'director_name']:\n",
    "    df_directors.loc[df_directors['director_name'] == name, 'director_profit_mean'] = df[df['director'] == name]['profit_index']\n",
    "\n",
    "df_directors['director_profit_std'] = [df[df['director'] == name]['profit_index'].std() for name in df_directors['director_name']]\n",
    "\n",
    "df_directors['director_profit_std'] = df_directors['director_profit_std'].fillna(0)\n",
    "\n",
    "df_directors['director_score_mean'] = [df[df['director'] == name]['score'].mean() for name in df_directors['director_name']]\n",
    "\n",
    "for name in df_directors.loc[df_directors['director_score_mean'].isnull(), 'director_name']:\n",
    "    df_directors.loc[df_directors['director_name'] == name, 'director_score_mean'] = df[df['director'] == name]['score']\n",
    "\n",
    "df_directors['director_score_std'] = [df[df['director'] == name]['score'].std() for name in df_directors['director_name']]\n",
    "\n",
    "df_directors['director_score_std'] = df_directors['director_score_std'].fillna(0)\n",
    "\n",
    "df_actors['actor_num_movies'] = [len(df[df['star'] == name]) for name in df_actors['actor_name']]\n",
    "\n",
    "df_actors['actor_profit_mean'] = [df[df['star'] == name]['profit_index'].mean() for name in df_actors['actor_name']]\n",
    "\n",
    "for name in df_actors.loc[df_actors['actor_profit_mean'].isnull(), 'actor_name']:\n",
    "    df_actors.loc[df_actors['actor_name'] == name, 'actor_profit_mean'] = df[df['star'] == name]['profit_index']\n",
    "\n",
    "df_actors['actor_profit_std'] = [df[df['star'] == name]['profit_index'].std() for name in df_actors['actor_name']]\n",
    "\n",
    "df_actors['actor_profit_std'] = df_actors['actor_profit_std'].fillna(0)\n",
    "\n",
    "df_actors['actor_score_mean'] = [df[df['star'] == name]['score'].mean() for name in df_actors['actor_name']]\n",
    "\n",
    "for name in df_actors.loc[df_actors['actor_score_mean'].isnull(), 'actor_name']:\n",
    "    df_actors.loc[df_actors['actor_name'] == name, 'actor_score_mean'] = df[df['star'] == name]['score']\n",
    "\n",
    "df_actors['actor_score_std'] = [df[df['star'] == name]['score'].std() for name in df_actors['actor_name']]\n",
    "\n",
    "df_actors['actor_score_std'] = df_actors['actor_score_std'].fillna(0)\n",
    "\n",
    "\n",
    "\n",
    "df_directors.to_csv('../dataset/directors_new.csv', index=False)\n",
    "df_actors.to_csv('../dataset/actors_new.csv', index=False)\n",
    "df.to_csv('../dataset/movies_new.csv', index=False)"
   ]
  },
  {
   "cell_type": "code",
   "execution_count": 4,
   "metadata": {},
   "outputs": [],
   "source": [
    "df_directors = pd.read_csv('../dataset/directors_new.csv')\n",
    "df_actors = pd.read_csv('../dataset/actors_new.csv')\n",
    "df = pd.read_csv('../dataset/movies_new.csv')\n",
    "\n",
    "# join finale tra i dataset\n",
    "df = df.merge(df_directors, left_on='director', right_on='director_name', how='left')\n",
    "df = df.merge(df_actors, left_on='star', right_on='actor_name', how='left')\n",
    "\n",
    "df = df.drop(['director_name', 'actor_name'], axis=1)\n",
    "\n",
    "df.to_csv('../dataset/movies_final_v1.csv', index=False)"
   ]
  }
 ],
 "metadata": {
  "kernelspec": {
   "display_name": "Python 3",
   "language": "python",
   "name": "python3"
  },
  "language_info": {
   "codemirror_mode": {
    "name": "ipython",
    "version": 3
   },
   "file_extension": ".py",
   "mimetype": "text/x-python",
   "name": "python",
   "nbconvert_exporter": "python",
   "pygments_lexer": "ipython3",
   "version": "3.12.3"
  }
 },
 "nbformat": 4,
 "nbformat_minor": 2
}
