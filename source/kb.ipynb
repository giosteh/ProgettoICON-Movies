{
 "cells": [
  {
   "cell_type": "code",
   "execution_count": 1,
   "metadata": {},
   "outputs": [],
   "source": [
    "from kb_utils import *"
   ]
  },
  {
   "cell_type": "markdown",
   "metadata": {},
   "source": [
    "### Creazione della KB"
   ]
  },
  {
   "cell_type": "code",
   "execution_count": 3,
   "metadata": {},
   "outputs": [],
   "source": [
    "# creazione della kb\n",
    "create_kb()"
   ]
  },
  {
   "cell_type": "markdown",
   "metadata": {},
   "source": [
    "### Feature engineering tramite KB `facts.pl` e `clauses.pl`"
   ]
  },
  {
   "cell_type": "code",
   "execution_count": 4,
   "metadata": {},
   "outputs": [],
   "source": [
    "# consulto della kb\n",
    "prolog = Prolog()\n",
    "prolog.consult('facts.pl')\n",
    "prolog.consult('clauses.pl')"
   ]
  },
  {
   "cell_type": "code",
   "execution_count": 5,
   "metadata": {},
   "outputs": [],
   "source": [
    "# derivazione del dataset 'movies_not_binned.csv' da 'movies_v2.csv'\n",
    "df_movies = pd.read_csv('../dataset/movies_v2.csv')\n",
    "\n",
    "# derivo il dataframe dei film con features non binnate\n",
    "df_movies_not_binned = derive_movies_data(df_movies, prolog, binning=False)\n",
    "df_movies_not_binned.to_csv('../dataset/movies_not_binned.csv', index=False)"
   ]
  },
  {
   "cell_type": "code",
   "execution_count": 6,
   "metadata": {},
   "outputs": [],
   "source": [
    "# derivazione del dataset 'movies_binned.csv' da 'movies_v2.csv'\n",
    "df_movies = pd.read_csv('../dataset/movies_v2.csv')\n",
    "\n",
    "# derivo il dataframe dei film con features binnate\n",
    "df_movies_binned = derive_movies_data(df_movies, prolog, binning=True)\n",
    "df_movies_binned.to_csv('../dataset/movies_binned.csv', index=False)"
   ]
  }
 ],
 "metadata": {
  "kernelspec": {
   "display_name": "Python 3",
   "language": "python",
   "name": "python3"
  },
  "language_info": {
   "codemirror_mode": {
    "name": "ipython",
    "version": 3
   },
   "file_extension": ".py",
   "mimetype": "text/x-python",
   "name": "python",
   "nbconvert_exporter": "python",
   "pygments_lexer": "ipython3",
   "version": "3.10.12"
  }
 },
 "nbformat": 4,
 "nbformat_minor": 2
}
