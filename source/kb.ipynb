{
 "cells": [
  {
   "cell_type": "code",
   "execution_count": 1,
   "metadata": {},
   "outputs": [],
   "source": [
    "from kb_utils import *"
   ]
  },
  {
   "cell_type": "code",
   "execution_count": 2,
   "metadata": {},
   "outputs": [],
   "source": [
    "# creazione della kb\n",
    "create_kb()"
   ]
  },
  {
   "cell_type": "markdown",
   "metadata": {},
   "source": [
    "### Feature engineering tramite KB `facts.pl`"
   ]
  },
  {
   "cell_type": "code",
   "execution_count": 3,
   "metadata": {},
   "outputs": [],
   "source": [
    "# derivo i nuovi dataframe dalla kb\n",
    "prolog = Prolog()\n",
    "prolog.consult('facts.pl')\n",
    "prolog.consult('clauses.pl')\n",
    "\n",
    "df_movies = pd.read_csv('../dataset/movies_v2.csv')\n",
    "\n",
    "directors = df_movies['director'].unique()\n",
    "df_directors = derive_directors_data(directors, prolog)\n",
    "df_directors.to_csv('../dataset/directors.csv', index=False)\n",
    "\n",
    "df_directors_binned = derive_directors_data(directors, prolog, binning=True)\n",
    "df_directors_binned.to_csv('../dataset/directors_binned.csv', index=False)\n",
    "\n",
    "actors = df_movies['star'].unique()\n",
    "df_actors = derive_actors_data(actors, prolog)\n",
    "df_actors.to_csv('../dataset/actors.csv', index=False)\n",
    "\n",
    "df_actors_binned = derive_actors_data(actors, prolog, binning=True)\n",
    "df_actors_binned.to_csv('../dataset/actors_binned.csv', index=False)"
   ]
  },
  {
   "cell_type": "code",
   "execution_count": 7,
   "metadata": {},
   "outputs": [],
   "source": [
    "df_directors = pd.read_csv('../dataset/directors.csv')\n",
    "df_actors = pd.read_csv('../dataset/actors.csv')\n",
    "\n",
    "# derivo il dataframe dei film con features non binnate\n",
    "df_movies_not_binned = derive_movies_data(df_movies, prolog, binning=False)\n",
    "\n",
    "df_movies_not_binned = df_movies_not_binned.merge(df_directors, left_on='director', right_on='director_name', how='left')\n",
    "df_movies_not_binned = df_movies_not_binned.merge(df_actors, left_on='star', right_on='actor_name', how='left')\n",
    "\n",
    "df_movies_not_binned = df_movies_not_binned.drop(['director_name', 'actor_name'], axis=1)\n",
    "\n",
    "df_movies_not_binned.to_csv('../dataset/movies_not_binned.csv', index=False)"
   ]
  },
  {
   "cell_type": "code",
   "execution_count": 8,
   "metadata": {},
   "outputs": [],
   "source": [
    "df_directors_binned = pd.read_csv('../dataset/directors_binned.csv')\n",
    "df_actors_binned = pd.read_csv('../dataset/actors_binned.csv')\n",
    "\n",
    "# derivo il dataframe dei film con features binnate\n",
    "df_movies_binned = derive_movies_data(df_movies, prolog, binning=True)\n",
    "\n",
    "df_movies_binned = df_movies_binned.merge(df_directors_binned, left_on='director', right_on='director_name', how='left')\n",
    "df_movies_binned = df_movies_binned.merge(df_actors_binned, left_on='star', right_on='actor_name', how='left')\n",
    "\n",
    "df_movies_binned = df_movies_binned.drop(['director_name', 'actor_name'], axis=1)\n",
    "\n",
    "df_movies_binned.to_csv('../dataset/movies_binned.csv', index=False)"
   ]
  }
 ],
 "metadata": {
  "kernelspec": {
   "display_name": "Python 3",
   "language": "python",
   "name": "python3"
  },
  "language_info": {
   "codemirror_mode": {
    "name": "ipython",
    "version": 3
   },
   "file_extension": ".py",
   "mimetype": "text/x-python",
   "name": "python",
   "nbconvert_exporter": "python",
   "pygments_lexer": "ipython3",
   "version": "3.12.3"
  }
 },
 "nbformat": 4,
 "nbformat_minor": 2
}
