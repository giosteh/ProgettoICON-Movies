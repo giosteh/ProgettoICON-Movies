{
 "cells": [
  {
   "cell_type": "code",
   "execution_count": 5,
   "metadata": {},
   "outputs": [],
   "source": [
    "import pandas as pd\n",
    "from pyswip import Prolog"
   ]
  },
  {
   "cell_type": "code",
   "execution_count": null,
   "metadata": {},
   "outputs": [],
   "source": [
    "# funzione per salvare su file una lista di stringhe\n",
    "def save_to_file(strings, filename):\n",
    "    with open(filename, 'w') as f:\n",
    "        f.write('\\n'.join(strings))"
   ]
  },
  {
   "cell_type": "markdown",
   "metadata": {},
   "source": [
    "### Creazione della knowledge base"
   ]
  },
  {
   "cell_type": "code",
   "execution_count": null,
   "metadata": {},
   "outputs": [],
   "source": [
    "save_to_file([\":-style_check(-discontiguous).\"], 'facts.pl')\n",
    "\n",
    "# fatti per i film\n",
    "df = pd.read_csv('dataset/movies_v2.csv')\n",
    "\n",
    "for row in df.itertuples():\n",
    "    facts = []\n",
    "    facts.append(f\"title(movie('{row.id}'), '{row.title}').\")\n",
    "    facts.append(f\"rating(movie('{row.id}'), '{row.rating}').\")\n",
    "    facts.append(f\"genre(movie('{row.id}'), '{row.genre}').\")\n",
    "    facts.append(f\"year(movie('{row.id}'), {row.year}).\")\n",
    "    facts.append(f\"score(movie('{row.id}'), {row.score}).\")\n",
    "    facts.append(f\"votes(movie('{row.id}'), {row.votes}).\")\n",
    "    facts.append(f\"country(movie('{row.id}'), '{row.country}').\")\n",
    "    facts.append(f\"budget(movie('{row.id}'), {row.budget}).\")\n",
    "    facts.append(f\"gross(movie('{row.id}'), {row.gross}).\")\n",
    "    facts.append(f\"company(movie('{row.id}'), '{row.company}').\")\n",
    "    facts.append(f\"runtime(movie('{row.id}'), {row.runtime}).\")\n",
    "    # relazioni tra film e artisti\n",
    "    facts.append(f\"director(movie('{row.id}'), '{row.director}').\")\n",
    "    facts.append(f\"writer(movie('{row.id}'), '{row.writer}').\")\n",
    "    facts.append(f\"star(movie('{row.id}'), '{row.star}').\")\n",
    "\n",
    "    save_to_file(facts, 'facts.pl')\n",
    "\n",
    "# fatti per gli artisti\n",
    "df = pd.read_csv('dataset/combined_v3.csv')\n",
    "\n",
    "for row in df.itertuples():\n",
    "    facts = []\n",
    "    facts.append(f\"birthYear(artist('{row.name}'), {row.birthYear}).\")\n",
    "    facts.append(f\"deathYear(artist('{row.name}'), {row.deathYear}).\")\n",
    "    facts.append(f\"knownForTitle(artist('{row.name}'), '{row.knownForTitle}').\")\n",
    "    facts.append(f\"profession1(artist('{row.name}'), '{row.profession1}').\")\n",
    "    facts.append(f\"profession2(artist('{row.name}'), '{row.profession2}').\")\n",
    "    facts.append(f\"profession3(artist('{row.name}'), '{row.profession3}').\")\n",
    "\n",
    "    save_to_file(facts, 'facts.pl')"
   ]
  },
  {
   "cell_type": "markdown",
   "metadata": {},
   "source": [
    "### Feature engineering con Prolog"
   ]
  },
  {
   "cell_type": "code",
   "execution_count": null,
   "metadata": {},
   "outputs": [],
   "source": [
    "prolog = Prolog()\n",
    "prolog.consult('facts.pl')\n"
   ]
  }
 ],
 "metadata": {
  "kernelspec": {
   "display_name": "Python 3",
   "language": "python",
   "name": "python3"
  },
  "language_info": {
   "codemirror_mode": {
    "name": "ipython",
    "version": 3
   },
   "file_extension": ".py",
   "mimetype": "text/x-python",
   "name": "python",
   "nbconvert_exporter": "python",
   "pygments_lexer": "ipython3",
   "version": "3.12.3"
  }
 },
 "nbformat": 4,
 "nbformat_minor": 2
}
