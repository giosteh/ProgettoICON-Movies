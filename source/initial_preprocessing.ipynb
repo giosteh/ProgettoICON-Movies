{
 "cells": [
  {
   "cell_type": "code",
   "execution_count": 1,
   "metadata": {},
   "outputs": [],
   "source": [
    "import pandas as pd\n",
    "import numpy as np\n",
    "import matplotlib.pyplot as plt"
   ]
  },
  {
   "cell_type": "markdown",
   "metadata": {},
   "source": [
    "### Preprocessing di `movies.csv`"
   ]
  },
  {
   "cell_type": "code",
   "execution_count": 7,
   "metadata": {},
   "outputs": [
    {
     "name": "stdout",
     "output_type": "stream",
     "text": [
      "<class 'pandas.core.frame.DataFrame'>\n",
      "RangeIndex: 7668 entries, 0 to 7667\n",
      "Data columns (total 15 columns):\n",
      " #   Column    Non-Null Count  Dtype  \n",
      "---  ------    --------------  -----  \n",
      " 0   name      7668 non-null   object \n",
      " 1   rating    7591 non-null   object \n",
      " 2   genre     7668 non-null   object \n",
      " 3   year      7668 non-null   int64  \n",
      " 4   released  7666 non-null   object \n",
      " 5   score     7665 non-null   float64\n",
      " 6   votes     7665 non-null   float64\n",
      " 7   director  7668 non-null   object \n",
      " 8   writer    7665 non-null   object \n",
      " 9   star      7667 non-null   object \n",
      " 10  country   7665 non-null   object \n",
      " 11  budget    5497 non-null   float64\n",
      " 12  gross     7479 non-null   float64\n",
      " 13  company   7651 non-null   object \n",
      " 14  runtime   7664 non-null   float64\n",
      "dtypes: float64(5), int64(1), object(9)\n",
      "memory usage: 898.7+ KB\n"
     ]
    }
   ],
   "source": [
    "df = pd.read_csv('../dataset/movies.csv')\n",
    "\n",
    "df.info()"
   ]
  },
  {
   "cell_type": "code",
   "execution_count": 8,
   "metadata": {},
   "outputs": [],
   "source": [
    "# rinomino la colonna 'name' in 'title'\n",
    "df = df.rename(columns={'name': 'title'})\n",
    "\n",
    "# rimuovo le colonne 'relesead' e 'writer'\n",
    "df = df.drop(['released', 'writer'], axis=1)\n",
    "\n",
    "# rimuovo le righe con budget e gross nulli\n",
    "df = df[(df['budget'].notnull()) & (df['gross'].notnull())]"
   ]
  },
  {
   "cell_type": "code",
   "execution_count": 9,
   "metadata": {},
   "outputs": [],
   "source": [
    "# aggiungo in testa una colonna 'id' con un indice progressivo per ogni film\n",
    "df.insert(0, 'id', range(1, 1 + len(df)))"
   ]
  },
  {
   "cell_type": "code",
   "execution_count": null,
   "metadata": {},
   "outputs": [],
   "source": [
    "# visualizzo le righe senza rating\n",
    "df[df['rating'].isnull()]"
   ]
  },
  {
   "cell_type": "code",
   "execution_count": 11,
   "metadata": {},
   "outputs": [],
   "source": [
    "# riempio i valori nulli della colonna 'rating'\n",
    "df.loc[df['title'] == 'Nausicaä of the Valley of the Wind', 'rating'] = 'PG'\n",
    "df.loc[df['title'] == 'Y Tu Mamá También', 'rating'] = 'R'\n",
    "df.loc[df['title'] == 'Return of the Living Dead III', 'rating'] = 'R'\n",
    "df.loc[df['title'] == 'Jason Goes to Hell: the Final Friday', 'rating'] = 'R'\n",
    "df.loc[df['title'] == 'Madadayo', 'rating'] = 'Unrated'\n",
    "df.loc[df['title'] == 'Happy Together', 'rating'] = 'PG-13'\n",
    "df.loc[df['title'] == 'Eyes Wide Shut', 'rating'] = 'R'\n",
    "df.loc[df['title'] == 'Brother', 'rating'] = 'R'\n",
    "df.loc[df['title'] == 'Monster\\'s Ball', 'rating'] = 'R'\n",
    "df.loc[df['title'] == 'Ichi the Killer', 'rating'] = 'R'\n",
    "df.loc[df['title'] == '31', 'rating'] = 'R'\n",
    "df.loc[df['title'] == 'Clinton Road', 'rating'] = 'Unrated'"
   ]
  },
  {
   "cell_type": "code",
   "execution_count": 12,
   "metadata": {},
   "outputs": [],
   "source": [
    "# imposto 'Unrated' per tutte le colonne che hanno valore 'Not Rated'\n",
    "df.loc[df['rating'] == 'Not Rated', 'rating'] = 'Unrated'"
   ]
  },
  {
   "cell_type": "code",
   "execution_count": 13,
   "metadata": {},
   "outputs": [
    {
     "name": "stdout",
     "output_type": "stream",
     "text": [
      "<class 'pandas.core.frame.DataFrame'>\n",
      "Index: 5436 entries, 0 to 7652\n",
      "Data columns (total 14 columns):\n",
      " #   Column    Non-Null Count  Dtype  \n",
      "---  ------    --------------  -----  \n",
      " 0   id        5436 non-null   int64  \n",
      " 1   title     5436 non-null   object \n",
      " 2   rating    5436 non-null   object \n",
      " 3   genre     5436 non-null   object \n",
      " 4   year      5436 non-null   int64  \n",
      " 5   score     5436 non-null   float64\n",
      " 6   votes     5436 non-null   float64\n",
      " 7   director  5436 non-null   object \n",
      " 8   star      5436 non-null   object \n",
      " 9   country   5436 non-null   object \n",
      " 10  budget    5436 non-null   float64\n",
      " 11  gross     5436 non-null   float64\n",
      " 12  company   5436 non-null   object \n",
      " 13  runtime   5436 non-null   float64\n",
      "dtypes: float64(5), int64(2), object(7)\n",
      "memory usage: 637.0+ KB\n"
     ]
    }
   ],
   "source": [
    "# riempio i valori nulli della colonna 'country'\n",
    "df.loc[df['title'] == 'Clinton Road', 'country'] = 'United States'\n",
    "\n",
    "# riempio i valori nulli della colonna 'company'\n",
    "df.loc[df['title'] == 'The Bear', 'company'] = 'Emabassy Pictures'\n",
    "df.loc[df['title'] == 'Heart of Dixie', 'company'] = 'Orion Pictures'\n",
    "\n",
    "# riempio i valori nulli della colonna 'runtime'\n",
    "df.loc[df['title'] == 'One for the Money', 'runtime'] = 91\n",
    "\n",
    "df.info()"
   ]
  },
  {
   "cell_type": "code",
   "execution_count": 14,
   "metadata": {},
   "outputs": [
    {
     "data": {
      "text/plain": [
       "0"
      ]
     },
     "execution_count": 14,
     "metadata": {},
     "output_type": "execute_result"
    }
   ],
   "source": [
    "# verifico che non ci siano duplicati\n",
    "df.duplicated().sum()"
   ]
  },
  {
   "cell_type": "code",
   "execution_count": 15,
   "metadata": {},
   "outputs": [],
   "source": [
    "df.to_csv('../dataset/movies_v2.csv', index=False)"
   ]
  },
  {
   "cell_type": "markdown",
   "metadata": {},
   "source": [
    "### Preprocessing di `combined.csv`"
   ]
  },
  {
   "cell_type": "code",
   "execution_count": 11,
   "metadata": {},
   "outputs": [
    {
     "name": "stdout",
     "output_type": "stream",
     "text": [
      "<class 'pandas.core.frame.DataFrame'>\n",
      "RangeIndex: 546421 entries, 0 to 546420\n",
      "Data columns (total 5 columns):\n",
      " #   Column             Non-Null Count   Dtype  \n",
      "---  ------             --------------   -----  \n",
      " 0   primaryName        546421 non-null  object \n",
      " 1   birthYear          546421 non-null  int64  \n",
      " 2   deathYear          184608 non-null  float64\n",
      " 3   primaryProfession  546421 non-null  object \n",
      " 4   knownForTitle      546421 non-null  object \n",
      "dtypes: float64(1), int64(1), object(3)\n",
      "memory usage: 20.8+ MB\n"
     ]
    }
   ],
   "source": [
    "df = pd.read_csv('../dataset/combined.csv')\n",
    "\n",
    "df.info()"
   ]
  },
  {
   "cell_type": "code",
   "execution_count": 12,
   "metadata": {},
   "outputs": [
    {
     "name": "stdout",
     "output_type": "stream",
     "text": [
      "<class 'pandas.core.frame.DataFrame'>\n",
      "RangeIndex: 546421 entries, 0 to 546420\n",
      "Data columns (total 6 columns):\n",
      " #   Column               Non-Null Count   Dtype  \n",
      "---  ------               --------------   -----  \n",
      " 0   primaryName          546421 non-null  object \n",
      " 1   birthYear            546421 non-null  int64  \n",
      " 2   deathYear            184608 non-null  float64\n",
      " 3   knownForTitle        546421 non-null  object \n",
      " 4   primaryProfession    546421 non-null  object \n",
      " 5   secondaryProfession  546421 non-null  object \n",
      "dtypes: float64(1), int64(1), object(4)\n",
      "memory usage: 25.0+ MB\n"
     ]
    },
    {
     "data": {
      "text/html": [
       "<div>\n",
       "<style scoped>\n",
       "    .dataframe tbody tr th:only-of-type {\n",
       "        vertical-align: middle;\n",
       "    }\n",
       "\n",
       "    .dataframe tbody tr th {\n",
       "        vertical-align: top;\n",
       "    }\n",
       "\n",
       "    .dataframe thead th {\n",
       "        text-align: right;\n",
       "    }\n",
       "</style>\n",
       "<table border=\"1\" class=\"dataframe\">\n",
       "  <thead>\n",
       "    <tr style=\"text-align: right;\">\n",
       "      <th></th>\n",
       "      <th>primaryName</th>\n",
       "      <th>birthYear</th>\n",
       "      <th>deathYear</th>\n",
       "      <th>knownForTitle</th>\n",
       "      <th>primaryProfession</th>\n",
       "      <th>secondaryProfession</th>\n",
       "    </tr>\n",
       "  </thead>\n",
       "  <tbody>\n",
       "    <tr>\n",
       "      <th>0</th>\n",
       "      <td>Fred Astaire</td>\n",
       "      <td>1899</td>\n",
       "      <td>1987.0</td>\n",
       "      <td>The Towering Inferno</td>\n",
       "      <td>actor</td>\n",
       "      <td>miscellaneous</td>\n",
       "    </tr>\n",
       "    <tr>\n",
       "      <th>1</th>\n",
       "      <td>Lauren Bacall</td>\n",
       "      <td>1924</td>\n",
       "      <td>2014.0</td>\n",
       "      <td>To Have and Have Not</td>\n",
       "      <td>actor</td>\n",
       "      <td>soundtrack</td>\n",
       "    </tr>\n",
       "    <tr>\n",
       "      <th>2</th>\n",
       "      <td>Brigitte Bardot</td>\n",
       "      <td>1934</td>\n",
       "      <td>NaN</td>\n",
       "      <td>Contempt</td>\n",
       "      <td>actor</td>\n",
       "      <td>music_department</td>\n",
       "    </tr>\n",
       "    <tr>\n",
       "      <th>3</th>\n",
       "      <td>John Belushi</td>\n",
       "      <td>1949</td>\n",
       "      <td>1982.0</td>\n",
       "      <td>Saturday Night Live</td>\n",
       "      <td>actor</td>\n",
       "      <td>writer</td>\n",
       "    </tr>\n",
       "    <tr>\n",
       "      <th>4</th>\n",
       "      <td>Ingmar Bergman</td>\n",
       "      <td>1918</td>\n",
       "      <td>2007.0</td>\n",
       "      <td>Wild Strawberries</td>\n",
       "      <td>writer</td>\n",
       "      <td>director</td>\n",
       "    </tr>\n",
       "  </tbody>\n",
       "</table>\n",
       "</div>"
      ],
      "text/plain": [
       "       primaryName  birthYear  deathYear         knownForTitle  \\\n",
       "0     Fred Astaire       1899     1987.0  The Towering Inferno   \n",
       "1    Lauren Bacall       1924     2014.0  To Have and Have Not   \n",
       "2  Brigitte Bardot       1934        NaN              Contempt   \n",
       "3     John Belushi       1949     1982.0   Saturday Night Live   \n",
       "4   Ingmar Bergman       1918     2007.0     Wild Strawberries   \n",
       "\n",
       "  primaryProfession secondaryProfession  \n",
       "0             actor       miscellaneous  \n",
       "1             actor          soundtrack  \n",
       "2             actor    music_department  \n",
       "3             actor              writer  \n",
       "4            writer            director  "
      ]
     },
     "execution_count": 12,
     "metadata": {},
     "output_type": "execute_result"
    }
   ],
   "source": [
    "# creo le colonne 'profession_1', 'profession_2' e 'profession_3'\n",
    "df = df.join(df['primaryProfession'].str.split(',', expand=True).rename(columns={0: 'profession_1', 1: 'profession_2', 2: 'profession_3'}))\n",
    "\n",
    "df = df.drop(['primaryProfession', 'profession_3'], axis=1)\n",
    "\n",
    "df = df.rename(columns={'profession_1': 'primaryProfession', 'profession_2': 'secondaryProfession'})\n",
    "df['secondaryProfession'] = df['secondaryProfession'].fillna('none')\n",
    "\n",
    "df.loc[df['primaryProfession'] == 'actress', 'primaryProfession'] = 'actor'\n",
    "df.loc[df['secondaryProfession'] == 'actress', 'secondaryProfession'] = 'actor'\n",
    "\n",
    "df.info()\n",
    "df.head()"
   ]
  },
  {
   "cell_type": "code",
   "execution_count": 13,
   "metadata": {},
   "outputs": [
    {
     "name": "stdout",
     "output_type": "stream",
     "text": [
      "<class 'pandas.core.frame.DataFrame'>\n",
      "RangeIndex: 546421 entries, 0 to 546420\n",
      "Data columns (total 6 columns):\n",
      " #   Column               Non-Null Count   Dtype \n",
      "---  ------               --------------   ----- \n",
      " 0   primaryName          546421 non-null  object\n",
      " 1   birthYear            546421 non-null  int64 \n",
      " 2   deathYear            546421 non-null  int64 \n",
      " 3   knownForTitle        546421 non-null  object\n",
      " 4   primaryProfession    546421 non-null  object\n",
      " 5   secondaryProfession  546421 non-null  object\n",
      "dtypes: int64(2), object(4)\n",
      "memory usage: 25.0+ MB\n"
     ]
    }
   ],
   "source": [
    "# riempio i valori nulli della colonna 'deathYear'\n",
    "df['deathYear'] = df['deathYear'].fillna(0)\n",
    "\n",
    "df['deathYear'] = df['deathYear'].astype('int64')\n",
    "df['birthYear'] = df['birthYear'].astype('int64')\n",
    "\n",
    "df.info()\n",
    "df.to_csv('../dataset/combined_v2.csv', index=False)"
   ]
  },
  {
   "cell_type": "markdown",
   "metadata": {},
   "source": [
    "### Costruzione del nuovo dataset `professionals.csv`"
   ]
  },
  {
   "cell_type": "code",
   "execution_count": 14,
   "metadata": {},
   "outputs": [
    {
     "data": {
      "text/plain": [
       "0"
      ]
     },
     "execution_count": 14,
     "metadata": {},
     "output_type": "execute_result"
    }
   ],
   "source": [
    "# costruisco un dataset dei movie professionals\n",
    "df_movies = pd.read_csv('../dataset/movies_v2.csv')\n",
    "\n",
    "directors = df_movies['director'].unique()\n",
    "actors = df_movies['star'].unique()\n",
    "\n",
    "# ottengo l'unione tra registi e attori\n",
    "union = np.union1d(directors, actors)\n",
    "\n",
    "df_professionals = pd.DataFrame({'primaryName': union})\n",
    "\n",
    "df_professionals.duplicated().sum()"
   ]
  },
  {
   "cell_type": "code",
   "execution_count": 15,
   "metadata": {},
   "outputs": [
    {
     "data": {
      "text/plain": [
       "3803"
      ]
     },
     "execution_count": 15,
     "metadata": {},
     "output_type": "execute_result"
    }
   ],
   "source": [
    "len(df_professionals)"
   ]
  },
  {
   "cell_type": "code",
   "execution_count": 16,
   "metadata": {},
   "outputs": [],
   "source": [
    "df = pd.read_csv('../dataset/combined_v2.csv')\n",
    "\n",
    "# eseguo il join tra i dataset\n",
    "df = df.merge(df_professionals, on='primaryName', how='left')\n",
    "\n",
    "df.to_csv('../dataset/professionals.csv', index=False)"
   ]
  }
 ],
 "metadata": {
  "kernelspec": {
   "display_name": "Python 3",
   "language": "python",
   "name": "python3"
  },
  "language_info": {
   "codemirror_mode": {
    "name": "ipython",
    "version": 3
   },
   "file_extension": ".py",
   "mimetype": "text/x-python",
   "name": "python",
   "nbconvert_exporter": "python",
   "pygments_lexer": "ipython3",
   "version": "3.12.3"
  }
 },
 "nbformat": 4,
 "nbformat_minor": 2
}
