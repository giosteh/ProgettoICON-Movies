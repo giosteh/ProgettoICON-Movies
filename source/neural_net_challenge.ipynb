{
 "cells": [
  {
   "cell_type": "code",
   "execution_count": null,
   "metadata": {},
   "outputs": [],
   "source": [
    "from neural_net_utils import *\n",
    "from feature_selection_utils import *"
   ]
  },
  {
   "cell_type": "markdown",
   "metadata": {},
   "source": [
    "### Sfida tra `GradientBoostingRegressor` e `RegressionNet`"
   ]
  },
  {
   "cell_type": "markdown",
   "metadata": {},
   "source": [
    "#### Feature analysis e selection con `GradientBoostingRegressor` (addestrato sul dataset `movies_not_binned.csv`)"
   ]
  },
  {
   "cell_type": "code",
   "execution_count": null,
   "metadata": {},
   "outputs": [],
   "source": [
    "df = pd.read_csv('dataset/movies_not_binned.csv')\n",
    "\n",
    "cols_to_retain = ['rating', 'genre', 'score', 'profit', 'age', 'runtime', 'votes', 'budget',\n",
    "                  'director_num_movies', 'director_age', 'director_profit_mean', 'director_profit_std', 'director_score_mean', 'director_score_std',\n",
    "                  'actor_num_movies', 'actor_age', 'actor_profit_mean', 'actor_profit_std', 'actor_score_mean', 'actor_score_std']\n",
    "\n",
    "cols = {\n",
    "    'target': 'score',\n",
    "    'drop': list(df.columns.difference(cols_to_retain)),\n",
    "    'dummies': ['rating', 'genre'],\n",
    "    'labels': [],\n",
    "    'round': [],\n",
    "    'clipping': ['profit', 'votes', 'budget',\n",
    "                 'director_profit_mean', 'actor_profit_mean',\n",
    "                 'director_profit_std', 'actor_profit_std'],\n",
    "    'standardize': ['runtime', 'director_age', 'actor_age'],\n",
    "    'minmax': ['age', 'profit', 'votes', 'budget',\n",
    "               'director_num_movies', 'actor_num_movies',\n",
    "               'director_profit_mean', 'actor_profit_mean',\n",
    "               'director_profit_std', 'actor_profit_std',\n",
    "               'director_score_mean', 'actor_score_mean',\n",
    "               'director_score_std', 'actor_score_std']\n",
    "}"
   ]
  },
  {
   "cell_type": "code",
   "execution_count": null,
   "metadata": {},
   "outputs": [],
   "source": [
    "# studio l'importanza delle features\n",
    "model_name = 'Gradient_Boosting_Regressor-not_binned'\n",
    "\n",
    "study_model_with_best_features(model_name, df, cols, folds=5, retain='all')"
   ]
  },
  {
   "cell_type": "code",
   "execution_count": null,
   "metadata": {},
   "outputs": [],
   "source": [
    "# scelgo il numero di features per RFECV e riaddestro il modello\n",
    "\n",
    "k = 10\n",
    "grid_params = {\n",
    "    'max_depth': [4, 6],\n",
    "    'min_samples_split': [8, 10, 12],\n",
    "    'min_samples_leaf': [6, 8, 10],\n",
    "}\n",
    "\n",
    "best_features = study_model_with_best_features(model_name, df, cols, retain=k, grid_params=grid_params)"
   ]
  },
  {
   "cell_type": "markdown",
   "metadata": {},
   "source": [
    "#### Addestramento di `RegressionNet` solo sul dataset originale `movies_v2.csv`"
   ]
  },
  {
   "cell_type": "code",
   "execution_count": null,
   "metadata": {},
   "outputs": [],
   "source": []
  },
  {
   "cell_type": "code",
   "execution_count": null,
   "metadata": {},
   "outputs": [],
   "source": []
  },
  {
   "cell_type": "markdown",
   "metadata": {},
   "source": [
    "#### Addestramento di `RegressionNet` solo sul dataset `movies_not_binned.csv` (solo con le $k$ features più importanti)"
   ]
  },
  {
   "cell_type": "code",
   "execution_count": null,
   "metadata": {},
   "outputs": [],
   "source": []
  },
  {
   "cell_type": "markdown",
   "metadata": {},
   "source": [
    "### Sfida tra `` e `ClassificationNet`"
   ]
  }
 ],
 "metadata": {
  "language_info": {
   "name": "python"
  }
 },
 "nbformat": 4,
 "nbformat_minor": 2
}
