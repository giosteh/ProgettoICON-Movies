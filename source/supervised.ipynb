{
 "cells": [
  {
   "cell_type": "code",
   "execution_count": 14,
   "metadata": {},
   "outputs": [],
   "source": [
    "import pandas as pd\n",
    "import numpy as np\n",
    "import matplotlib.pyplot as plt\n",
    "import seaborn as sns\n",
    "\n",
    "from sklearn.linear_model import LinearRegression, Ridge\n",
    "from sklearn.tree import DecisionTreeRegressor\n",
    "from sklearn.ensemble import RandomForestRegressor, GradientBoostingRegressor\n",
    "from sklearn.metrics import mean_squared_error, make_scorer\n",
    "from sklearn.preprocessing import LabelEncoder, StandardScaler, MinMaxScaler\n",
    "from sklearn.model_selection import train_test_split, GridSearchCV, cross_validate\n",
    "\n",
    "sns.set_style('whitegrid')"
   ]
  },
  {
   "cell_type": "code",
   "execution_count": 15,
   "metadata": {},
   "outputs": [],
   "source": [
    "# funzione che si occupa del preprocessing dei dati\n",
    "def prepare_data(df, target_col, drop_cols=[],\n",
    "               dummies_cols=[], labels_cols=[],\n",
    "               standardize_cols=[], log_standardize_cols=[]):\n",
    "    X = df.drop(columns=[target_col] + drop_cols, axis=1)\n",
    "    y = df[target_col]\n",
    "\n",
    "    if dummies_cols:\n",
    "        X = pd.get_dummies(X, columns=dummies_cols)\n",
    "    if labels_cols:\n",
    "        encoder = LabelEncoder()\n",
    "        for col in labels_cols:\n",
    "            X[col] = encoder.fit_transform(X[col])\n",
    "\n",
    "    X_train, X_test, y_train, y_test = train_test_split(X, y, test_size=.2, random_state=42)\n",
    "\n",
    "    if standardize_cols:\n",
    "        scaler = StandardScaler()\n",
    "        X_train[standardize_cols] = scaler.fit_transform(X_train[standardize_cols])\n",
    "        X_test[standardize_cols] = scaler.transform(X_test[standardize_cols])\n",
    "    if log_standardize_cols:\n",
    "        scaler = StandardScaler()\n",
    "        X_train[log_standardize_cols] = scaler.fit_transform(np.log(X_train[log_standardize_cols] + 1))\n",
    "        X_test[log_standardize_cols] = scaler.transform(np.log(X_test[log_standardize_cols] + 1))\n",
    "\n",
    "    return X_train.to_numpy(), X_test.to_numpy(), y_train.to_numpy(), y_test.to_numpy()"
   ]
  },
  {
   "cell_type": "code",
   "execution_count": 16,
   "metadata": {},
   "outputs": [],
   "source": [
    "# funzione che visualizza in un grafico i risultati della cross validation\n",
    "def plot_cv_results(param_range, train_scores, test_scores,\n",
    "                    xlabel, ylabel, title=''):\n",
    "    plt.figure(figsize=(10, 6))\n",
    "    plt.plot(param_range, train_scores, label='Train score')\n",
    "    plt.plot(param_range, test_scores, label='Validation score')\n",
    "    plt.legend()\n",
    "    plt.xlabel(xlabel)\n",
    "    plt.ylabel(ylabel)\n",
    "    plt.title(title)"
   ]
  },
  {
   "cell_type": "code",
   "execution_count": 17,
   "metadata": {},
   "outputs": [],
   "source": [
    "# funzione che implementa una pipeline completa per il tuning dei modelli\n",
    "def tune_model(model, model_name, X, y,\n",
    "               grid_params={}, grid_scoring=[], cv=5,\n",
    "               cv_params={}, cv_scoring=[], is_regression=True,\n",
    "               verbose=True, plot=True, xlabel='', ylabel=''):\n",
    "    best_model = model\n",
    "    if grid_params:\n",
    "        grid_search = GridSearchCV(model, grid_params, scoring=grid_scoring, cv=cv)\n",
    "        grid_search.fit(X, y)\n",
    "        best_model = grid_search.best_estimator_\n",
    "\n",
    "        if verbose:\n",
    "            print(f'Results for {model_name}:')\n",
    "            print(f'Best parameters: {grid_search.best_params_}')\n",
    "            print(f'Best score: {grid_search.best_score_}')\n",
    "    \n",
    "    if cv_params:\n",
    "        for param in cv_params:\n",
    "            train_scores, test_scores = [], []\n",
    "            param_range = cv_params[param]\n",
    "\n",
    "            cv_model = best_model\n",
    "\n",
    "            for val in param_range:\n",
    "                cv_model.set_params(**{param: val})\n",
    "                cv_results = cross_validate(cv_model, X, y, scoring=cv_scoring, cv=cv, return_train_score=True)\n",
    "\n",
    "                train_score = -cv_results['train_score'].mean() if is_regression else cv_results['train_score'].mean()\n",
    "                test_score = -cv_results['test_score'].mean() if is_regression else cv_results['test_score'].mean()\n",
    "\n",
    "                train_scores.append(train_score)\n",
    "                test_scores.append(test_score)\n",
    "\n",
    "            if plot:\n",
    "                plot_cv_results(param_range, train_scores, test_scores, xlabel, ylabel, title=f'{model_name} - {param}')"
   ]
  },
  {
   "cell_type": "markdown",
   "metadata": {},
   "source": [
    "## Task di Regressione sullo 'score'"
   ]
  },
  {
   "cell_type": "markdown",
   "metadata": {},
   "source": [
    "### Addestramento dei modelli con la prima versione dei dataset"
   ]
  },
  {
   "cell_type": "code",
   "execution_count": 20,
   "metadata": {},
   "outputs": [],
   "source": [
    "# leggi il dataset movies_final.csv\n",
    "df = pd.read_csv('../dataset/movies_final.csv')\n",
    "\n",
    "# prepara i dati per l'addestramento e tuning del modello\n",
    "X_train, X_test, y_train, y_test = prepare_data(df, 'score', drop_cols=['id', 'title', 'director', 'star', 'year', 'name_x', 'name_y'],\n",
    "                                                dummies_cols=['genre', 'rating'],\n",
    "                                                labels_cols=['country', 'company'],\n",
    "                                                standardize_cols=['success_index', 'cult_index', 'profit_index', 'runtime', 'age'],\n",
    "                                                log_standardize_cols=['budget', 'gross', 'votes'])\n"
   ]
  },
  {
   "cell_type": "code",
   "execution_count": 21,
   "metadata": {},
   "outputs": [
    {
     "name": "stdout",
     "output_type": "stream",
     "text": [
      "Results for Linear Regression:\n",
      "Best parameters: {'fit_intercept': True}\n",
      "Best score: -0.017686562208212967\n"
     ]
    }
   ],
   "source": [
    "model = LinearRegression()\n",
    "\n",
    "grid = {\n",
    "    'fit_intercept': [True, False]\n",
    "}\n",
    "\n",
    "mse_scorer = make_scorer(mean_squared_error, greater_is_better=False)\n",
    "\n",
    "tune_model(model, 'Linear Regression', X_train, y_train,\n",
    "           grid_params=grid, grid_scoring=mse_scorer,\n",
    "           cv=5, is_regression=True, verbose=True)"
   ]
  }
 ],
 "metadata": {
  "kernelspec": {
   "display_name": "Python 3",
   "language": "python",
   "name": "python3"
  },
  "language_info": {
   "codemirror_mode": {
    "name": "ipython",
    "version": 3
   },
   "file_extension": ".py",
   "mimetype": "text/x-python",
   "name": "python",
   "nbconvert_exporter": "python",
   "pygments_lexer": "ipython3",
   "version": "3.12.3"
  }
 },
 "nbformat": 4,
 "nbformat_minor": 2
}
