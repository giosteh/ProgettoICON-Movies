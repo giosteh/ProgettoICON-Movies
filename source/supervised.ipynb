{
 "cells": [
  {
   "cell_type": "code",
   "execution_count": 1,
   "metadata": {},
   "outputs": [],
   "source": [
    "from supervised_utils import *"
   ]
  },
  {
   "cell_type": "markdown",
   "metadata": {},
   "source": [
    "### Task di regressione su `score`"
   ]
  },
  {
   "cell_type": "markdown",
   "metadata": {},
   "source": [
    "#### Addestramento e tuning sul dataset originale `movies_v2.csv`"
   ]
  },
  {
   "cell_type": "code",
   "execution_count": 2,
   "metadata": {},
   "outputs": [],
   "source": [
    "df = pd.read_csv('../dataset/movies_v2.csv')\n",
    "\n",
    "# colonne per l'addestramento\n",
    "cols_to_retain = ['rating', 'genre', 'year', 'score', 'votes', 'budget', 'gross', 'runtime']\n",
    "\n",
    "cols = {\n",
    "    'target': 'score',\n",
    "    'drop': list(df.columns.difference(cols_to_retain)),\n",
    "    'dummies': ['rating', 'genre'],\n",
    "    'labels': [],\n",
    "    'round': [],\n",
    "    'standardize': ['runtime'],\n",
    "    'log_standardize': ['votes', 'budget', 'gross'],\n",
    "    'minmax': ['year']\n",
    "}"
   ]
  },
  {
   "cell_type": "code",
   "execution_count": null,
   "metadata": {},
   "outputs": [],
   "source": [
    "# tuning e testing dei modelli\n",
    "tune_and_test_models_for_regression(df, cols, session_name='original')"
   ]
  },
  {
   "cell_type": "markdown",
   "metadata": {},
   "source": [
    "#### Addestramento e tuning sul primo dataset derivato `movies_not_binned.csv`"
   ]
  },
  {
   "cell_type": "code",
   "execution_count": null,
   "metadata": {},
   "outputs": [],
   "source": [
    "df = pd.read_csv('../dataset/movies_not_binned.csv')\n",
    "\n",
    "# colonne per l'addestramento\n",
    "cols_to_retain = ['rating', 'genre', 'score', 'profit_index', 'age', 'runtime', 'votes', 'budget', 'gross',\n",
    "                  'director_num_movies', 'director_profit_mean', 'director_profit_std', 'director_score_mean', 'director_score_std',\n",
    "                  'actor_num_movies', 'actor_profit_mean', 'actor_profit_std', 'actor_score_mean', 'actor_score_std']\n",
    "\n",
    "cols = {\n",
    "    'target': 'score',\n",
    "    'drop': list(df.columns.difference(cols_to_retain)),\n",
    "    'dummies': ['rating', 'genre'],\n",
    "    'labels': [],\n",
    "    'round': ['profit_index', 'director_profit_mean', 'director_profit_std', 'director_score_mean', 'director_score_std',\n",
    "              'actor_profit_mean', 'actor_profit_std', 'actor_score_mean', 'actor_score_std'],\n",
    "    'standardize': ['runtime'],\n",
    "    'log_standardize': ['votes', 'budget', 'gross'],\n",
    "    'minmax': ['age', 'director_num_movies', 'actor_num_movies']\n",
    "}"
   ]
  },
  {
   "cell_type": "code",
   "execution_count": null,
   "metadata": {},
   "outputs": [],
   "source": [
    "# tuning e testing dei modelli\n",
    "tune_and_test_models_for_regression(df, cols, session_name='not_binned')"
   ]
  },
  {
   "cell_type": "markdown",
   "metadata": {},
   "source": [
    "#### Addestramento e tuning sul secondo dataset derivato `movies_binned.csv`"
   ]
  },
  {
   "cell_type": "code",
   "execution_count": null,
   "metadata": {},
   "outputs": [],
   "source": [
    "df = pd.read_csv('../dataset/movies_binned.csv')\n",
    "\n",
    "# colonne per l'addestramento\n",
    "cols_to_retain = ['rating', 'genre', 'score', 'profitability', 'age', 'runtime', 'votes', 'budget', 'gross',\n",
    "                  'director_num_movies', 'director_profit_mean', 'director_profit_std', 'director_score_mean', 'director_score_std',\n",
    "                  'actor_num_movies', 'actor_profit_mean', 'actor_profit_std', 'actor_score_mean', 'actor_score_std']\n",
    "\n",
    "cols = {\n",
    "    'target': 'score',\n",
    "    'drop': list(df.columns.difference(cols_to_retain)),\n",
    "    'dummies': ['rating', 'genre', 'profitability', 'age', 'runtime', 'votes', 'budget', 'gross', \n",
    "                'director_num_movies', 'director_profit_mean', 'director_profit_std', 'director_score_mean', 'director_score_std',\n",
    "                'actor_num_movies', 'actor_profit_mean', 'actor_profit_std', 'actor_score_mean', 'actor_score_std'],\n",
    "    'labels': [],\n",
    "    'round': [],\n",
    "    'standardize': [],\n",
    "    'log_standardize': [],\n",
    "    'minmax': []\n",
    "}"
   ]
  },
  {
   "cell_type": "code",
   "execution_count": null,
   "metadata": {},
   "outputs": [],
   "source": [
    "# tuning e testing dei modelli\n",
    "tune_and_test_models_for_regression(df, cols, session_name='binned')"
   ]
  },
  {
   "cell_type": "markdown",
   "metadata": {},
   "source": [
    "### Task di classificazione su `profitability`"
   ]
  },
  {
   "cell_type": "markdown",
   "metadata": {},
   "source": [
    "#### Addestramento e tuning sul primo dataset derivato `movies_not_binned.csv`"
   ]
  },
  {
   "cell_type": "markdown",
   "metadata": {},
   "source": [
    "#### Addestramento e tuning sul secondo dataset derivato `movies_binned.csv`"
   ]
  }
 ],
 "metadata": {
  "kernelspec": {
   "display_name": "Python 3",
   "language": "python",
   "name": "python3"
  },
  "language_info": {
   "codemirror_mode": {
    "name": "ipython",
    "version": 3
   },
   "file_extension": ".py",
   "mimetype": "text/x-python",
   "name": "python",
   "nbconvert_exporter": "python",
   "pygments_lexer": "ipython3",
   "version": "3.12.3"
  }
 },
 "nbformat": 4,
 "nbformat_minor": 2
}
