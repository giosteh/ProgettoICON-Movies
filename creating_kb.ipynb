{
 "cells": [
  {
   "cell_type": "code",
   "execution_count": 5,
   "metadata": {},
   "outputs": [],
   "source": [
    "import pandas as pd\n",
    "from pyswip import Prolog"
   ]
  },
  {
   "cell_type": "code",
   "execution_count": 6,
   "metadata": {},
   "outputs": [],
   "source": [
    "# Create a new Prolog instance\n",
    "prolog = Prolog()\n",
    "\n",
    "df = pd.read_csv('dataset/movies_combined.csv')\n",
    "\n",
    "movies = pd.read_csv('dataset/movies_v2.csv')"
   ]
  },
  {
   "cell_type": "code",
   "execution_count": 7,
   "metadata": {},
   "outputs": [],
   "source": [
    "facts = \":-style_check(-discontiguous).\\n\"\n",
    "\n",
    "for _, row in movies.iterrows():\n",
    "    facts += f\"rating(movie('{row['name']}'), '{row['rating']}').\\n\"\n",
    "    facts += f\"genre(movie('{row['name']}'), '{row['genre']}').\\n\"\n",
    "    facts += f\"year(movie('{row['name']}'), {row['year']}).\\n\"\n",
    "    facts += f\"score(movie('{row['name']}'), {row['score']}).\\n\"\n",
    "    facts += f\"votes(movie('{row['name']}'), {row['votes']}).\\n\"\n",
    "    facts += f\"director(movie('{row['name']}'), '{row['director']}').\\n\"\n",
    "    facts += f\"writer(movie('{row['name']}'), '{row['writer']}').\\n\"\n",
    "    facts += f\"star(movie('{row['name']}'), '{row['star']}').\\n\"\n",
    "    facts += f\"country(movie('{row['name']}'), '{row['country']}').\\n\"\n",
    "    facts += f\"budget(movie('{row['name']}'), {row['budget']}).\\n\"\n",
    "    facts += f\"gross(movie('{row['name']}'), {row['gross']}).\\n\"\n",
    "    facts += f\"company(movie('{row['name']}'), '{row['company']}').\\n\"\n",
    "    facts += f\"runtime(movie('{row['name']}'), {row['runtime']}).\\n\"\n",
    "\n",
    "for _, row in df.iterrows():\n",
    "    facts += f\"birthYear(artist('{row['primaryName']}'), {row['birthYear']}).\\n\"\n",
    "    facts += f\"deathYear(artist('{row['primaryName']}'), {row['deathYear']}).\\n\"\n",
    "    facts += f\"knownForTitle(artist('{row['primaryName']}'), '{row['knownForTitle']}').\\n\"\n",
    "    facts += f\"profession1(artist('{row['primaryName']}'), '{row['profession1']}').\\n\"\n",
    "    facts += f\"profession2(artist('{row['primaryName']}'), '{row['profession2']}').\\n\"\n",
    "    facts += f\"profession3(artist('{row['primaryName']}'), '{row['profession3']}').\\n\"\n",
    "\n",
    "with open('facts.pl', 'w') as f:\n",
    "    f.write(facts)"
   ]
  }
 ],
 "metadata": {
  "kernelspec": {
   "display_name": "Python 3",
   "language": "python",
   "name": "python3"
  },
  "language_info": {
   "codemirror_mode": {
    "name": "ipython",
    "version": 3
   },
   "file_extension": ".py",
   "mimetype": "text/x-python",
   "name": "python",
   "nbconvert_exporter": "python",
   "pygments_lexer": "ipython3",
   "version": "3.12.3"
  }
 },
 "nbformat": 4,
 "nbformat_minor": 2
}
