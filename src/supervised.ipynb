{
 "cells": [
  {
   "cell_type": "code",
   "execution_count": 6,
   "metadata": {},
   "outputs": [],
   "source": [
    "from supervised_utils import *"
   ]
  },
  {
   "cell_type": "code",
   "execution_count": 2,
   "metadata": {},
   "outputs": [],
   "source": [
    "# sopprimi i warning a runtime\n",
    "import warnings\n",
    "warnings.filterwarnings(\"ignore\", category=RuntimeWarning)"
   ]
  },
  {
   "cell_type": "markdown",
   "metadata": {},
   "source": [
    "### Task di regressione su `score`"
   ]
  },
  {
   "cell_type": "markdown",
   "metadata": {},
   "source": [
    "#### Sul dataset iniziale `movies_adj_last30.csv`"
   ]
  },
  {
   "cell_type": "code",
   "execution_count": 3,
   "metadata": {},
   "outputs": [
    {
     "name": "stdout",
     "output_type": "stream",
     "text": [
      "# cols: 14 | # rows: 4046\n",
      "\n",
      "+----------+---------+\n",
      "|  Column  |  Type   |\n",
      "+----------+---------+\n",
      "|    id    |  int64  |\n",
      "|  title   | object  |\n",
      "|  rating  | object  |\n",
      "|  genre   | object  |\n",
      "|   year   |  int64  |\n",
      "|  score   | float64 |\n",
      "|  votes   | float64 |\n",
      "| director | object  |\n",
      "|   star   | object  |\n",
      "| country  | object  |\n",
      "|  budget  | float64 |\n",
      "|  gross   | float64 |\n",
      "| company  | object  |\n",
      "| runtime  | float64 |\n",
      "+----------+---------+\n"
     ]
    }
   ],
   "source": [
    "df = pd.read_csv(\"../data/movies_adj_last30.csv\")\n",
    "print_info(df)"
   ]
  },
  {
   "cell_type": "code",
   "execution_count": null,
   "metadata": {},
   "outputs": [],
   "source": [
    "# colonne per il training\n",
    "cols = {\n",
    "    \"target\": \"score\",\n",
    "    \"drop\": [\"id\", \"title\", \"company\", \"country\", \"director\", \"star\"],\n",
    "    \"dummies\": [\"rating\", \"genre\"],\n",
    "    \"labels\": [],\n",
    "    \"standardize\": [\"runtime\"],\n",
    "    \"minmax\": [\"votes\", \"budget\", \"gross\"]\n",
    "}"
   ]
  },
  {
   "cell_type": "code",
   "execution_count": null,
   "metadata": {},
   "outputs": [],
   "source": [
    "# tuning e testing\n",
    "tune_and_test_models(df, cols, task=\"regression\", session_name=\"raw\")"
   ]
  },
  {
   "cell_type": "markdown",
   "metadata": {},
   "source": [
    "#### Sul dataset derivato `movies_features_last30.csv`"
   ]
  },
  {
   "cell_type": "code",
   "execution_count": 3,
   "metadata": {},
   "outputs": [
    {
     "name": "stdout",
     "output_type": "stream",
     "text": [
      "# cols: 23 | # rows: 4046\n",
      "\n",
      "+----------------------------+---------+\n",
      "|           Column           |  Type   |\n",
      "+----------------------------+---------+\n",
      "|             id             |  int64  |\n",
      "|           title            | object  |\n",
      "|          runtime           | float64 |\n",
      "|         rating_cat         | object  |\n",
      "|         genre_cat          | object  |\n",
      "|       popularity_cat       | object  |\n",
      "|         budget_cat         | object  |\n",
      "|     budget_efficiency      | float64 |\n",
      "|   budget_efficiency_cat    | object  |\n",
      "|            age             |  int64  |\n",
      "|           score            | float64 |\n",
      "|        is_acclaimed        |  bool   |\n",
      "|         is_panned          |  bool   |\n",
      "|   director_age_in_movie    | float64 |\n",
      "|    director_experience     |  int64  |\n",
      "|   director_is_acclaimed    |  bool   |\n",
      "|     director_is_panned     |  bool   |\n",
      "| director_budget_efficiency | float64 |\n",
      "|     star_age_in_movie      | float64 |\n",
      "|      star_experience       |  int64  |\n",
      "|     star_is_acclaimed      |  bool   |\n",
      "|       star_is_panned       |  bool   |\n",
      "|   star_budget_efficiency   | float64 |\n",
      "+----------------------------+---------+\n"
     ]
    }
   ],
   "source": [
    "df = pd.read_csv(\"../data/movies_features_last30.csv\")\n",
    "print_info(df)"
   ]
  },
  {
   "cell_type": "code",
   "execution_count": 4,
   "metadata": {},
   "outputs": [],
   "source": [
    "# colonne per il training\n",
    "cols = {\n",
    "    \"target\": \"score\",\n",
    "    \"drop\": [\"id\", \"title\", \"is_acclaimed\", \"is_panned\", \"budget_efficiency_cat\"],\n",
    "    \"dummies\": [\"rating_cat\", \"genre_cat\", \"popularity_cat\", \"budget_cat\"],\n",
    "    \"labels\": [],\n",
    "    \"standardize\": [\"runtime\", \"director_age_in_movie\", \"star_age_in_movie\"],\n",
    "    \"minmax\": [\"director_experience\", \"star_experience\"]\n",
    "}"
   ]
  },
  {
   "cell_type": "code",
   "execution_count": null,
   "metadata": {},
   "outputs": [],
   "source": [
    "# tuning e testing\n",
    "tune_and_test_models(df, cols, task=\"regression\", session_name=\"der\")"
   ]
  },
  {
   "cell_type": "markdown",
   "metadata": {},
   "source": [
    "### Task di classificazione su `budget_efficiency`"
   ]
  },
  {
   "cell_type": "markdown",
   "metadata": {},
   "source": [
    "#### Sul dataset iniziale `movies_adj_last30.csv`"
   ]
  },
  {
   "cell_type": "code",
   "execution_count": 7,
   "metadata": {},
   "outputs": [
    {
     "name": "stdout",
     "output_type": "stream",
     "text": [
      "# cols: 15 | # rows: 4046\n",
      "\n",
      "+-----------------------+---------+\n",
      "|        Column         |  Type   |\n",
      "+-----------------------+---------+\n",
      "|          id           |  int64  |\n",
      "|         title         | object  |\n",
      "|        rating         | object  |\n",
      "|         genre         | object  |\n",
      "|         year          |  int64  |\n",
      "|         score         | float64 |\n",
      "|         votes         | float64 |\n",
      "|       director        | object  |\n",
      "|         star          | object  |\n",
      "|        country        | object  |\n",
      "|        budget         | float64 |\n",
      "|         gross         | float64 |\n",
      "|        company        | object  |\n",
      "|        runtime        | float64 |\n",
      "| budget_efficiency_cat | object  |\n",
      "+-----------------------+---------+\n"
     ]
    }
   ],
   "source": [
    "adj_df = pd.read_csv(\"../data/movies_adj_last30.csv\")\n",
    "features_df = pd.read_csv(\"../data/movies_features_last30.csv\")\n",
    "df = adj_df.merge(features_df[[\"id\", \"budget_efficiency_cat\"]], on=\"id\", how=\"left\")\n",
    "\n",
    "df = df[list(adj_df.columns) + [\"budget_efficiency_cat\"]]\n",
    "print_info(df)"
   ]
  },
  {
   "cell_type": "code",
   "execution_count": 5,
   "metadata": {},
   "outputs": [],
   "source": [
    "# colonne per il training\n",
    "cols = {\n",
    "    \"target\": \"budget_efficiency_cat\",\n",
    "    \"drop\": [\"id\", \"title\", \"company\", \"country\", \"director\", \"star\", \"gross\"],\n",
    "    \"dummies\": [\"rating\", \"genre\"],\n",
    "    \"labels\": [],\n",
    "    \"standardize\": [\"runtime\", \"score\"],\n",
    "    \"minmax\": [\"votes\", \"budget\"]\n",
    "}"
   ]
  },
  {
   "cell_type": "code",
   "execution_count": null,
   "metadata": {},
   "outputs": [],
   "source": [
    "# tuning e testing\n",
    "tune_and_test_models(df, cols, task=\"classification\", resample=False, session_name=\"raw\")"
   ]
  },
  {
   "cell_type": "markdown",
   "metadata": {},
   "source": [
    "#### Sul dataset derivato `movies_features_last30.csv`"
   ]
  },
  {
   "cell_type": "code",
   "execution_count": 10,
   "metadata": {},
   "outputs": [
    {
     "name": "stdout",
     "output_type": "stream",
     "text": [
      "# cols: 23 | # rows: 4046\n",
      "\n",
      "+----------------------------+---------+\n",
      "|           Column           |  Type   |\n",
      "+----------------------------+---------+\n",
      "|             id             |  int64  |\n",
      "|           title            | object  |\n",
      "|          runtime           | float64 |\n",
      "|         rating_cat         | object  |\n",
      "|         genre_cat          | object  |\n",
      "|       popularity_cat       | object  |\n",
      "|         budget_cat         | object  |\n",
      "|     budget_efficiency      | float64 |\n",
      "|   budget_efficiency_cat    | object  |\n",
      "|            age             |  int64  |\n",
      "|           score            | float64 |\n",
      "|        is_acclaimed        |  bool   |\n",
      "|         is_panned          |  bool   |\n",
      "|   director_age_in_movie    | float64 |\n",
      "|    director_experience     |  int64  |\n",
      "|   director_is_acclaimed    |  bool   |\n",
      "|     director_is_panned     |  bool   |\n",
      "| director_budget_efficiency | float64 |\n",
      "|     star_age_in_movie      | float64 |\n",
      "|      star_experience       |  int64  |\n",
      "|     star_is_acclaimed      |  bool   |\n",
      "|       star_is_panned       |  bool   |\n",
      "|   star_budget_efficiency   | float64 |\n",
      "+----------------------------+---------+\n"
     ]
    }
   ],
   "source": [
    "df = pd.read_csv(\"../data/movies_features_last30.csv\")\n",
    "print_info(df)"
   ]
  },
  {
   "cell_type": "code",
   "execution_count": 9,
   "metadata": {},
   "outputs": [],
   "source": [
    "# colonne per il training\n",
    "cols = {\n",
    "    \"target\": \"budget_efficiency_cat\",\n",
    "    \"drop\": [\"id\", \"title\", \"budget_efficiency\"],\n",
    "    \"dummies\": [\"rating_cat\", \"genre_cat\", \"popularity_cat\", \"budget_cat\"],\n",
    "    \"labels\": [],\n",
    "    \"standardize\": [\"runtime\", \"director_age_in_movie\", \"star_age_in_movie\"],\n",
    "    \"minmax\": [\"director_experience\", \"star_experience\"]\n",
    "}"
   ]
  },
  {
   "cell_type": "code",
   "execution_count": null,
   "metadata": {},
   "outputs": [],
   "source": [
    "# tuning e testing\n",
    "tune_and_test_models(df, cols, task=\"classification\", resample=False, session_name=\"der\")"
   ]
  }
 ],
 "metadata": {
  "kernelspec": {
   "display_name": "Python 3",
   "language": "python",
   "name": "python3"
  },
  "language_info": {
   "codemirror_mode": {
    "name": "ipython",
    "version": 3
   },
   "file_extension": ".py",
   "mimetype": "text/x-python",
   "name": "python",
   "nbconvert_exporter": "python",
   "pygments_lexer": "ipython3",
   "version": "3.10.12"
  }
 },
 "nbformat": 4,
 "nbformat_minor": 2
}
