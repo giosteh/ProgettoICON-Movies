{
 "cells": [
  {
   "cell_type": "code",
   "execution_count": 1,
   "metadata": {},
   "outputs": [],
   "source": [
    "from kb_utils import *\n",
    "from pyswip import Prolog"
   ]
  },
  {
   "cell_type": "code",
   "execution_count": 2,
   "metadata": {},
   "outputs": [],
   "source": [
    "# selezione dei film usciti negli ultimi 30 anni dal dataset \"movies_adj.csv\"\n",
    "df = pd.read_csv(\"../data/movies_adj.csv\")\n",
    "df = df[df[\"year\"] > 1993]\n",
    "\n",
    "df.to_csv(\"../data/movies_adj_last30.csv\", index=False)"
   ]
  },
  {
   "cell_type": "markdown",
   "metadata": {},
   "source": [
    "### Creazione della KB"
   ]
  },
  {
   "cell_type": "code",
   "execution_count": 2,
   "metadata": {},
   "outputs": [],
   "source": [
    "# creazione della kb\n",
    "create_kb()"
   ]
  },
  {
   "cell_type": "markdown",
   "metadata": {},
   "source": [
    "### Feature engineering tramite `facts.pl` e `clauses.pl`"
   ]
  },
  {
   "cell_type": "code",
   "execution_count": 4,
   "metadata": {},
   "outputs": [],
   "source": [
    "# consulto della kb\n",
    "prolog_kb = Prolog()\n",
    "\n",
    "prolog_kb.consult(\"kb/facts.pl\")\n",
    "prolog_kb.consult(\"kb/clauses.pl\")"
   ]
  },
  {
   "cell_type": "code",
   "execution_count": 5,
   "metadata": {},
   "outputs": [],
   "source": [
    "df = pd.read_csv(\"../data/movies_adj.csv\")\n",
    "\n",
    "# derivazione del nuovo dataset \"movies_features.csv\"\n",
    "df_final = derive_movies_data(df, prolog_kb)\n",
    "df_final.to_csv(\"../data/movies_features.csv\", index=False)"
   ]
  },
  {
   "cell_type": "code",
   "execution_count": 6,
   "metadata": {},
   "outputs": [],
   "source": [
    "# selezione dei film usciti negli ultimi 30 anni dal dataset \"movies_features.csv\"\n",
    "df = pd.read_csv(\"../data/movies_features.csv\")\n",
    "df = df[df[\"age\"] <= 30]\n",
    "\n",
    "df.to_csv(\"../data/movies_features_last30.csv\", index=False)"
   ]
  }
 ],
 "metadata": {
  "kernelspec": {
   "display_name": "Python 3",
   "language": "python",
   "name": "python3"
  },
  "language_info": {
   "codemirror_mode": {
    "name": "ipython",
    "version": 3
   },
   "file_extension": ".py",
   "mimetype": "text/x-python",
   "name": "python",
   "nbconvert_exporter": "python",
   "pygments_lexer": "ipython3",
   "version": "3.10.12"
  }
 },
 "nbformat": 4,
 "nbformat_minor": 2
}
